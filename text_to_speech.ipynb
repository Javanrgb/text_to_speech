{
 "cells": [
  {
   "cell_type": "code",
   "execution_count": 1,
   "id": "ca88a17b",
   "metadata": {},
   "outputs": [],
   "source": [
    "from gtts import gTTS"
   ]
  },
  {
   "cell_type": "code",
   "execution_count": 6,
   "id": "d297feb4",
   "metadata": {},
   "outputs": [],
   "source": [
    "convert = gTTS(text='NLP is one of the best inventions in modent day computing and we would like to advance it to the next sector', lang='en', slow=True)#text to be converted  and speed of reading it\n"
   ]
  },
  {
   "cell_type": "code",
   "execution_count": null,
   "id": "12c89223",
   "metadata": {},
   "outputs": [],
   "source": [
    "convert.save(\"myaudio.mp3\")#saves the text into audio format"
   ]
  },
  {
   "cell_type": "markdown",
   "id": "c50033ed",
   "metadata": {},
   "source": [
    "# find the audio and you can listen to it"
   ]
  },
  {
   "cell_type": "code",
   "execution_count": null,
   "id": "fceb72d5",
   "metadata": {},
   "outputs": [],
   "source": []
  }
 ],
 "metadata": {
  "kernelspec": {
   "display_name": "Python 3 (ipykernel)",
   "language": "python",
   "name": "python3"
  },
  "language_info": {
   "codemirror_mode": {
    "name": "ipython",
    "version": 3
   },
   "file_extension": ".py",
   "mimetype": "text/x-python",
   "name": "python",
   "nbconvert_exporter": "python",
   "pygments_lexer": "ipython3",
   "version": "3.8.8"
  }
 },
 "nbformat": 4,
 "nbformat_minor": 5
}
